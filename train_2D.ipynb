{
 "cells": [
  {
   "cell_type": "code",
   "execution_count": null,
   "metadata": {
    "cellView": "form",
    "colab": {
     "base_uri": "https://localhost:8080/"
    },
    "id": "Tv4sbUfUXbVa",
    "outputId": "22b0628c-936e-4643-ac9a-d8bbb031c17e"
   },
   "outputs": [],
   "source": [
    "import os\n",
    "import random\n",
    "import numpy as np\n",
    "import tensorflow as tf\n",
    "import matplotlib.pyplot as plt\n",
    "\n",
    "gpus = tf.config.list_physical_devices('GPU')\n",
    "if gpus:\n",
    "    try:\n",
    "        tf.config.set_logical_device_configuration(\n",
    "            gpus[0],\n",
    "            [tf.config.LogicalDeviceConfiguration(memory_limit=4000)])\n",
    "        logical_gpus = tf.config.list_logical_devices('GPU')\n",
    "        print(len(gpus), \"Physical GPUs,\", len(logical_gpus), \"Logical GPUs\")\n",
    "    except RuntimeError as e:\n",
    "        print(e)\n",
    "\n",
    "from tensorflow import keras\n",
    "from tifffile import imsave, imread, imwrite\n",
    "from keras.models import Input, Model\n",
    "from keras import layers\n",
    "from keras.callbacks import ModelCheckpoint, EarlyStopping, ReduceLROnPlateau,LearningRateScheduler\n",
    "from tifffile import imwrite\n",
    "\n",
    "from datagenerator_2D import data_generator\n",
    "from model_2D_interconnect import make_generator\n",
    "# from Model_2D_Unet import make_generator\n",
    "# from Model_2D_RCAN import make_generator\n",
    "\n",
    "from loss_2D import generator_loss\n",
    "from skimage import exposure\n",
    "from skimage.exposure import match_histograms\n",
    "from skimage.exposure import histogram"
   ]
  },
  {
   "cell_type": "code",
   "execution_count": null,
   "metadata": {
    "cellView": "form",
    "id": "kp_fudHmSiXl",
    "scrolled": true
   },
   "outputs": [],
   "source": [
    "patch_size = 128\n",
    "n_patches =  1\n",
    "n_channel =  0\n",
    "augment = True\n",
    "shuffle = True \n",
    "batch_size = 1\n",
    "add_noise= True\n",
    "lp = 0.5\n",
    "\n",
    "GT_image_dr = r'D:\\Projects\\Denosing-STED-Abberior\\2022-11-03_UCF_DemoSamples\\npcomplex-golgi\\npcomplex\\patches\\Average\\Average.tif'\n",
    "lowSNR_image_dr =r'D:\\Projects\\Denosing-STED-Abberior\\2022-11-03_UCF_DemoSamples\\npcomplex-golgi\\npcomplex\\patches\\1frame\\1frame.tif'\n",
    "\n",
    "x_train, y_train, x_valid, y_valid = data_generator(GT_image_dr, lowSNR_image_dr, patch_size, n_patches,\n",
    "                                                    n_channel, threshold = 17,ratio=1.0,lp=lp, augment=augment, shuffle=shuffle,\n",
    "                                                   add_noise=add_noise)"
   ]
  },
  {
   "cell_type": "code",
   "execution_count": null,
   "metadata": {
    "scrolled": false
   },
   "outputs": [],
   "source": [
    "ix = random.sample(range(len(x_train)),4)\n",
    "fig = plt.figure(figsize=(15,7))\n",
    "\n",
    "for i in range(4):\n",
    "    norm_x = np.linalg.norm(x_train[ix[i]], axis=(0, 1))\n",
    "    fig.add_subplot(2,4, 2*i+1)\n",
    "    cmap=plt.get_cmap('magma')\n",
    "    plt.imshow(x_train[ix[i],:,:,0].squeeze(),cmap)\n",
    "    plt.title('Low SNR',fontdict={'fontsize':18})\n",
    "    plt_axis = plt.axis('off')\n",
    "    \n",
    "    fig.add_subplot(2,4, 2*i+2)\n",
    "    cmap=plt.get_cmap('magma')\n",
    "    plt.imshow(y_train[ix[i],:,:,0].squeeze(),cmap)\n",
    "    plt.title('High SNR',fontdict={'fontsize':18})\n",
    "    plt_axis = plt.axis('off')"
   ]
  },
  {
   "cell_type": "code",
   "execution_count": null,
   "metadata": {
    "cellView": "form",
    "id": "6d2Xe1vBN_r_"
   },
   "outputs": [],
   "source": [
    "model_save_directory = r\"D:\\Projects\\Denosing-STED-Abberior\\2022-11-03_UCF_DemoSamples\\npcomplex-golgi\\npcomplex\\npcomplex.h5\" \n",
    "load_model_save_directory = r\"D:\\Projects\\Denoising-STED\\20220913-RPI\\tubulin-histone\\histon_2step.h5\" \n",
    "\n",
    "\n",
    "n_epochs =  400\n",
    "gen_lr = 1e-4\n",
    "\n",
    "filters =[32,64,128]\n",
    "# filters =[80,160]\n",
    "num_filters = filters[0]\n",
    "# filters_cab=num_filters/8\n",
    "filters_cab=num_filters/16\n",
    "\n",
    "num_RG=3\n",
    "num_RCAB=8\n",
    "\n",
    "generator_input = Input((patch_size, patch_size,1))\n",
    "generator = make_generator(generator_input, filters, num_filters,filters_cab,num_RG,num_RCAB,\n",
    "                           kernel_shape=3,dropout=0.2)\n",
    "gen_opt = keras.optimizers.Adam(learning_rate=gen_lr)\n",
    "generator.compile(optimizer=gen_opt, loss=generator_loss)\n",
    "# generator.load_weights(load_model_save_directory)\n",
    "\n",
    "\n",
    "\n",
    "lr_max = 1e-4\n",
    "lr_min = 1e-6\n",
    "T = 40\n",
    "a1 = 0.7\n",
    "a2 = 0.7\n",
    "def scheduler(epoch, lr):\n",
    "    lr_min_i = a1**np.floor((epoch)/T)*lr_min\n",
    "    lr_max_i = a2**np.floor((epoch)/T)*lr_max\n",
    "    lr = lr_min_i+0.5*(lr_max_i-lr_min_i)*(1+np.cos(np.pi*np.mod(epoch,T)/(T-1)))\n",
    "    return lr\n",
    "\n",
    "# def scheduler(epoch, lr):\n",
    "#     lr = 1e-9*10**(epoch/20)\n",
    "#     return lr\n",
    "\n",
    "# lr_max = 1e-4\n",
    "# lr_min = 1e-6\n",
    "# a1 = 0.5\n",
    "# T = 20\n",
    "# def scheduler(epoch, lr):\n",
    "#     if lr>lr_min:\n",
    "#         lr = gen_lr*(a1**np.floor((epoch+1)/T))\n",
    "#     else:\n",
    "#         lr = lr_min\n",
    "#     return lr\n",
    "\n",
    "callbacks = [\n",
    "    LearningRateScheduler(scheduler),\n",
    "    ModelCheckpoint(filepath=model_save_directory, verbose=1, save_best_only=True, save_weights_only=True)]\n",
    "\n",
    "# callbacks = [\n",
    "#     EarlyStopping(patience=30, verbose=1),\n",
    "#     ReduceLROnPlateau(monitor='val_loss',factor=0.5,patience=10),\n",
    "#     ModelCheckpoint(filepath=model_save_directory, verbose=1, save_best_only=True, save_weights_only=True)]\n",
    "\n",
    "# callbacks = [LearningRateScheduler(scheduler)]\n"
   ]
  },
  {
   "cell_type": "code",
   "execution_count": null,
   "metadata": {
    "scrolled": true
   },
   "outputs": [],
   "source": [
    "results = generator.fit(x=x_train,y=y_train, batch_size=batch_size, epochs=n_epochs,verbose=1,\n",
    "                        callbacks=callbacks,validation_split=0.1)"
   ]
  },
  {
   "cell_type": "code",
   "execution_count": null,
   "metadata": {},
   "outputs": [],
   "source": []
  }
 ],
 "metadata": {
  "accelerator": "GPU",
  "colab": {
   "collapsed_sections": [],
   "name": "Denoising_UNET_RCAN_3D.ipynb",
   "provenance": []
  },
  "gpuClass": "standard",
  "kernelspec": {
   "display_name": "Python 3 (ipykernel)",
   "language": "python",
   "name": "python3"
  },
  "language_info": {
   "codemirror_mode": {
    "name": "ipython",
    "version": 3
   },
   "file_extension": ".py",
   "mimetype": "text/x-python",
   "name": "python",
   "nbconvert_exporter": "python",
   "pygments_lexer": "ipython3",
   "version": "3.8.0"
  }
 },
 "nbformat": 4,
 "nbformat_minor": 1
}

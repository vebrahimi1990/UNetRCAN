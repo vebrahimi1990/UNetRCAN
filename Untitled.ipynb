{
 "cells": [
  {
   "cell_type": "code",
   "execution_count": 1,
   "id": "ae9b35bd",
   "metadata": {},
   "outputs": [
    {
     "name": "stderr",
     "output_type": "stream",
     "text": [
      "Cloning into 'UNet'...\n"
     ]
    }
   ],
   "source": [
    "!git clone https://github.com/vebrahimi1990/UNet.git"
   ]
  },
  {
   "cell_type": "code",
   "execution_count": null,
   "id": "ecf1dc2c",
   "metadata": {},
   "outputs": [],
   "source": [
    "from UNet import Model"
   ]
  }
 ],
 "metadata": {
  "kernelspec": {
   "display_name": "Python 3 (ipykernel)",
   "language": "python",
   "name": "python3"
  },
  "language_info": {
   "codemirror_mode": {
    "name": "ipython",
    "version": 3
   },
   "file_extension": ".py",
   "mimetype": "text/x-python",
   "name": "python",
   "nbconvert_exporter": "python",
   "pygments_lexer": "ipython3",
   "version": "3.8.0"
  }
 },
 "nbformat": 4,
 "nbformat_minor": 5
}

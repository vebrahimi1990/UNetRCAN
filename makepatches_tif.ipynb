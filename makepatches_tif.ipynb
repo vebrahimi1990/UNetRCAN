{
 "cells": [
  {
   "cell_type": "code",
   "execution_count": 8,
   "id": "1fe69e23",
   "metadata": {},
   "outputs": [
    {
     "name": "stdout",
     "output_type": "stream",
     "text": [
      "(1448, 1743)\n",
      "(1777, 1206)\n",
      "(3212, 1703)\n",
      "(2290, 1513)\n",
      "(1131, 1603)\n",
      "(1088, 1088)\n",
      "(1113, 1448)\n",
      "(1175, 1113)\n"
     ]
    }
   ],
   "source": [
    "import os\n",
    "from tifffile import imread, imwrite\n",
    "import numpy as np\n",
    "\n",
    "file_path = r'D:\\Projects\\Denosing-STED-Abberior\\2022-11-03_UCF_DemoSamples\\npcomplex-golgi\\golgi\\1frame'\n",
    "save_path = r'D:\\Projects\\Denosing-STED-Abberior\\2022-11-03_UCF_DemoSamples\\npcomplex-golgi\\golgi\\patches\\1frame'\n",
    "list_files = os.listdir(file_path)\n",
    "M = len(list_files)\n",
    "patch_size = 256\n",
    "threshold = 0.05\n",
    "\n",
    "z = np.zeros((1, patch_size, patch_size))\n",
    "\n",
    "\n",
    "for i in list_files:\n",
    "    f = imread(os.path.join(file_path, '', i)).astype(np.float64)\n",
    "    f = f / f.max()\n",
    "    f = f - f.min()\n",
    "    f = f / f.max()\n",
    "    f[f < 0] = 0\n",
    "    print(f.shape)\n",
    "    w = f.shape[-1]\n",
    "    h = f.shape[-2]\n",
    "    if len(f.shape) == 3:\n",
    "        t = f.shape[0]\n",
    "    else:\n",
    "        t = 1\n",
    "        f = f.reshape((1, f.shape[0], f.shape[1]))\n",
    "    nx = int(3*np.ceil(h / patch_size))\n",
    "    ny = int(3*np.ceil(w / patch_size))\n",
    "#     nx = 1\n",
    "#     ny = 1\n",
    "    x = np.zeros((nx * ny * t, patch_size, patch_size))\n",
    "    nnx = np.floor(np.linspace(0, h - patch_size, nx)).astype(np.int32)\n",
    "    nny = np.floor(np.linspace(0, w - patch_size, ny)).astype(np.int32)\n",
    "    count = 0\n",
    "    for j in range(t):\n",
    "        for p in range(nx):\n",
    "            for q in range(ny):\n",
    "                x[count, :, :] = f[j, nnx[p]:nnx[p] + patch_size, nny[q]:nny[q] + patch_size]\n",
    "                count = count + 1\n",
    "#     z = np.append(x,z,axis=0)\n",
    "\n",
    "# x = z[1::]\n",
    "norm_x = np.linalg.norm(x, axis=(1, 2))\n",
    "norm_x = norm_x/ norm_x.max()\n",
    "# ind_norm = np.where(norm_x > threshold)[0]\n",
    "y = np.zeros((len(ind_norm), patch_size, patch_size))\n",
    "for k in range(len(ind_norm)):\n",
    "    y[k] = x[ind_norm[k]]\n",
    "    y[k] = y[k]/y[k].max()\n",
    "y = np.uint16(y * (2 ** 16 - 1))\n",
    "imwrite(os.path.join(save_path, '', '1frame.tif'), y, imagej=True, metadata={'axes': 'TYX'})\n"
   ]
  },
  {
   "cell_type": "code",
   "execution_count": null,
   "id": "a65b2b3f",
   "metadata": {},
   "outputs": [],
   "source": []
  }
 ],
 "metadata": {
  "kernelspec": {
   "display_name": "Python 3 (ipykernel)",
   "language": "python",
   "name": "python3"
  },
  "language_info": {
   "codemirror_mode": {
    "name": "ipython",
    "version": 3
   },
   "file_extension": ".py",
   "mimetype": "text/x-python",
   "name": "python",
   "nbconvert_exporter": "python",
   "pygments_lexer": "ipython3",
   "version": "3.8.0"
  }
 },
 "nbformat": 4,
 "nbformat_minor": 5
}

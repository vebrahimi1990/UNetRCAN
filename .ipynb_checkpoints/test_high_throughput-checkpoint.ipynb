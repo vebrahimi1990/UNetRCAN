{
 "cells": [
  {
   "cell_type": "code",
   "execution_count": 1,
   "metadata": {
    "cellView": "form",
    "colab": {
     "base_uri": "https://localhost:8080/"
    },
    "id": "Tv4sbUfUXbVa",
    "outputId": "22b0628c-936e-4643-ac9a-d8bbb031c17e"
   },
   "outputs": [
    {
     "name": "stdout",
     "output_type": "stream",
     "text": [
      "1 Physical GPUs, 1 Logical GPUs\n"
     ]
    }
   ],
   "source": [
    "import os\n",
    "import random\n",
    "import numpy as np\n",
    "import tensorflow as tf\n",
    "import matplotlib.pyplot as plt\n",
    "\n",
    "gpus = tf.config.list_physical_devices('GPU')\n",
    "if gpus:\n",
    "    try:\n",
    "        tf.config.set_logical_device_configuration(\n",
    "            gpus[0],\n",
    "            [tf.config.LogicalDeviceConfiguration(memory_limit=12000)])\n",
    "        logical_gpus = tf.config.list_logical_devices('GPU')\n",
    "        print(len(gpus), \"Physical GPUs,\", len(logical_gpus), \"Logical GPUs\")\n",
    "    except RuntimeError as e:\n",
    "        print(e)\n",
    "from tifffile import imsave, imread, imwrite\n",
    "from keras.models import Input, Model\n",
    "from datagenerator_2D import data_generator\n",
    "from model_2D_interconnect import make_generator"
   ]
  },
  {
   "cell_type": "code",
   "execution_count": 2,
   "metadata": {},
   "outputs": [],
   "source": [
    "model_save_directory =  r\"D:\\Projects\\Denoising-STED\\20220913-RPI\\comparison twostep-onestep-rcan\\tubulin_2step.h5\" \n",
    "save_image_dr = r\"D:\\Projects\\Denoising-STED\\20220913-RPI\\tubulin-clathrine-highthroughput\\results\" "
   ]
  },
  {
   "cell_type": "code",
   "execution_count": 3,
   "metadata": {},
   "outputs": [],
   "source": [
    "x_test = imread(r'D:\\Projects\\Denoising-STED\\20220913-RPI\\tubulin-clathrine-highthroughput\\1frame.tif').astype(np.float64)"
   ]
  },
  {
   "cell_type": "code",
   "execution_count": 4,
   "metadata": {},
   "outputs": [],
   "source": [
    "ratios = np.loadtxt(r'D:\\Projects\\Denoising-STED\\20220913-RPI\\tubulin-clathrine-highthroughput\\ratios.csv', delimiter=\",\")"
   ]
  },
  {
   "cell_type": "code",
   "execution_count": 5,
   "metadata": {},
   "outputs": [],
   "source": [
    "ratios[:,0] = ratios[:,0]/ratios[:,0].max()\n",
    "ratios[:,1] = ratios[:,1]/ratios[:,1].max()"
   ]
  },
  {
   "cell_type": "code",
   "execution_count": 6,
   "metadata": {},
   "outputs": [],
   "source": [
    "for i in range(len(x_test)):\n",
    "    x_test[i] = x_test[i]/x_test[i].max()\n",
    "    x_test[i] = x_test[i]*ratios[i,1]\n",
    "x_test = x_test.reshape(x_test.shape+(1,))"
   ]
  },
  {
   "cell_type": "code",
   "execution_count": 7,
   "metadata": {},
   "outputs": [
    {
     "ename": "TypeError",
     "evalue": "only integer scalar arrays can be converted to a scalar index",
     "output_type": "error",
     "traceback": [
      "\u001b[1;31m---------------------------------------------------------------------------\u001b[0m",
      "\u001b[1;31mTypeError\u001b[0m                                 Traceback (most recent call last)",
      "Input \u001b[1;32mIn [7]\u001b[0m, in \u001b[0;36m<module>\u001b[1;34m\u001b[0m\n\u001b[0;32m     17\u001b[0m _,prediction2\u001b[38;5;241m=\u001b[39m generator(x_test[i:i\u001b[38;5;241m+\u001b[39m\u001b[38;5;241m1\u001b[39m],training\u001b[38;5;241m=\u001b[39m\u001b[38;5;28;01mFalse\u001b[39;00m)\n\u001b[0;32m     18\u001b[0m pred2_test \u001b[38;5;241m=\u001b[39m prediction2\n\u001b[1;32m---> 19\u001b[0m pred2_test[pred2_test\u001b[38;5;241m<\u001b[39m\u001b[38;5;241m0\u001b[39m]\u001b[38;5;241m=\u001b[39m\u001b[38;5;241m0\u001b[39m\n\u001b[0;32m     20\u001b[0m pred2_test \u001b[38;5;241m=\u001b[39m pred2_test\u001b[38;5;241m*\u001b[39m(\u001b[38;5;241m2\u001b[39m\u001b[38;5;241m*\u001b[39m\u001b[38;5;241m*\u001b[39m\u001b[38;5;241m16\u001b[39m\u001b[38;5;241m-\u001b[39m\u001b[38;5;241m1\u001b[39m)\n\u001b[0;32m     21\u001b[0m pred2_test \u001b[38;5;241m=\u001b[39m pred2_test\u001b[38;5;241m.\u001b[39mastype(np\u001b[38;5;241m.\u001b[39muint16)\n",
      "File \u001b[1;32mc:\\users\\va332845\\appdata\\local\\programs\\python\\python38\\lib\\site-packages\\tensorflow\\python\\framework\\ops.py:1057\u001b[0m, in \u001b[0;36m_EagerTensorBase.__index__\u001b[1;34m(self)\u001b[0m\n\u001b[0;32m   1056\u001b[0m \u001b[38;5;28;01mdef\u001b[39;00m \u001b[38;5;21m__index__\u001b[39m(\u001b[38;5;28mself\u001b[39m):\n\u001b[1;32m-> 1057\u001b[0m   \u001b[38;5;28;01mreturn\u001b[39;00m \u001b[38;5;28;43mself\u001b[39;49m\u001b[38;5;241;43m.\u001b[39;49m\u001b[43m_numpy\u001b[49m\u001b[43m(\u001b[49m\u001b[43m)\u001b[49m\u001b[38;5;241;43m.\u001b[39;49m\u001b[38;5;21;43m__index__\u001b[39;49m\u001b[43m(\u001b[49m\u001b[43m)\u001b[49m\n",
      "\u001b[1;31mTypeError\u001b[0m: only integer scalar arrays can be converted to a scalar index"
     ]
    }
   ],
   "source": [
    "filters =[64,128,256]\n",
    "num_filters = filters[0]\n",
    "filters_cab=num_filters/8\n",
    "num_RG=3\n",
    "num_RCAB=8\n",
    "\n",
    "patch_size = 2048\n",
    "\n",
    "generator_input = Input((patch_size, patch_size,1))\n",
    "generator = make_generator(generator_input, filters, num_filters,filters_cab,num_RG,num_RCAB,\n",
    "                           kernel_shape=3,dropout=0.2)\n",
    "generator.load_weights(model_save_directory)\n",
    "\n",
    "prediction2 = np.zeros(x_test.shape)\n",
    "\n",
    "for i in range(len(x_test)):\n",
    "    _,prediction2[i]= generator(x_test[i:i+1],training=False)\n",
    "    pred2_test = prediction2[i]\n",
    "    pred2_test[pred2_test<0]=0\n",
    "    pred2_test = pred2_test*(2**16-1)\n",
    "    pred2_test = pred2_test.astype(np.uint16)\n",
    "    imwrite(save_image_dr+'\\image_'+str(i)+'.tif', pred2_test.squeeze())\n"
   ]
  },
  {
   "cell_type": "code",
   "execution_count": null,
   "metadata": {
    "cellView": "form",
    "colab": {
     "base_uri": "https://localhost:8080/",
     "height": 708
    },
    "id": "Pl6pCBtNFOko",
    "outputId": "24ecab5f-9ec0-4bd7-8e1d-51ca3bbb8ed3"
   },
   "outputs": [],
   "source": [
    "ix = np.random.randint(len(prediction1))\n",
    "# ix = 0\n",
    "fig = plt.figure(figsize=(40,40))\n",
    "\n",
    "plt.subplot(1, 4, 1)\n",
    "plt.imshow(x_test[ix, :, :, 0] , cmap='magma')\n",
    "plt.title('Low SNR Input',fontdict={'fontsize':20})\n",
    "plt_axis = plt.axis('off')\n",
    "\n",
    "plt.subplot(1, 4, 2)\n",
    "plt.imshow(prediction1[ix, :, :, 0] , cmap='magma')\n",
    "plt.title('Prediction by UNet',fontdict={'fontsize':20})\n",
    "plt_axis = plt.axis('off')\n",
    "\n",
    "plt.subplot(1, 4, 3)\n",
    "plt.imshow(prediction2[ix, :, :, 0] , cmap='magma')\n",
    "plt.title('Prediction by RCAN',fontdict={'fontsize':20})\n",
    "plt_axis = plt.axis('off')\n",
    "\n",
    "plt.subplot(1, 4, 4)\n",
    "plt.imshow(y_test[ix, :, :, 0] , cmap='magma')\n",
    "plt.title('Ground Truth',fontdict={'fontsize':20})\n",
    "plt_axis = plt.axis('off')"
   ]
  },
  {
   "cell_type": "code",
   "execution_count": null,
   "metadata": {},
   "outputs": [],
   "source": [
    "a = np.random.rand(1,10,10)\n",
    "a.shape"
   ]
  }
 ],
 "metadata": {
  "accelerator": "GPU",
  "colab": {
   "collapsed_sections": [],
   "name": "Denoising_UNET_RCAN_3D.ipynb",
   "provenance": []
  },
  "gpuClass": "standard",
  "kernelspec": {
   "display_name": "Python 3 (ipykernel)",
   "language": "python",
   "name": "python3"
  },
  "language_info": {
   "codemirror_mode": {
    "name": "ipython",
    "version": 3
   },
   "file_extension": ".py",
   "mimetype": "text/x-python",
   "name": "python",
   "nbconvert_exporter": "python",
   "pygments_lexer": "ipython3",
   "version": "3.8.0"
  }
 },
 "nbformat": 4,
 "nbformat_minor": 1
}

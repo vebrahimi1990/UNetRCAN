{
 "cells": [
  {
   "cell_type": "code",
   "execution_count": 1,
   "metadata": {
    "cellView": "form",
    "colab": {
     "base_uri": "https://localhost:8080/"
    },
    "id": "Tv4sbUfUXbVa",
    "outputId": "22b0628c-936e-4643-ac9a-d8bbb031c17e"
   },
   "outputs": [
    {
     "name": "stdout",
     "output_type": "stream",
     "text": [
      "1 Physical GPUs, 1 Logical GPUs\n"
     ]
    }
   ],
   "source": [
    "import os\n",
    "import random\n",
    "import numpy as np\n",
    "import tensorflow as tf\n",
    "import matplotlib.pyplot as plt\n",
    "\n",
    "gpus = tf.config.list_physical_devices('GPU')\n",
    "if gpus:\n",
    "    try:\n",
    "        tf.config.set_logical_device_configuration(\n",
    "            gpus[0],\n",
    "            [tf.config.LogicalDeviceConfiguration(memory_limit=12000)])\n",
    "        logical_gpus = tf.config.list_logical_devices('GPU')\n",
    "        print(len(gpus), \"Physical GPUs,\", len(logical_gpus), \"Logical GPUs\")\n",
    "    except RuntimeError as e:\n",
    "        print(e)\n",
    "\n",
    "from tensorflow import keras\n",
    "from tifffile import imsave, imread, imwrite\n",
    "from keras.models import Input\n",
    "from tifffile import imwrite\n",
    "\n",
    "from datagenerator_3D import stack_generator, data_generator\n",
    "# from model_3D_interconnect import make_generator\n",
    "from model_3D import make_generator"
   ]
  },
  {
   "cell_type": "code",
   "execution_count": 2,
   "metadata": {},
   "outputs": [
    {
     "name": "stdout",
     "output_type": "stream",
     "text": [
      "(64, 80, 1, 512, 512)\n",
      "(64, 512, 512, 32, 1)\n",
      "64\n",
      "The training set shape is: (64, 512, 512, 32, 1)\n",
      "The validation set shape is: (0, 512, 512, 32, 1)\n"
     ]
    }
   ],
   "source": [
    "test_GT = r'D:\\Projects\\Denosing-STED-Abberior\\2022-11-03_UCF_DemoSamples\\3D STED_TOM20\\test\\patches\\Average'\n",
    "test_low = r'D:\\Projects\\Denosing-STED-Abberior\\2022-11-03_UCF_DemoSamples\\3D STED_TOM20\\test\\patches\\1frame'\n",
    "model_save_directory = r\"D:\\Projects\\Denosing-STED-Abberior\\2022-11-03_UCF_DemoSamples\\3D STED_TOM20\\patches\\unet_rcan_microtubule.h5\"\n",
    "\n",
    "\n",
    "\n",
    "test_patch_size=512\n",
    "frame_start=42\n",
    "frame_end =74\n",
    "n_channel = 0\n",
    "n_patches=1\n",
    "\n",
    "\n",
    "filters =[32,64,128]\n",
    "num_filters = filters[0]\n",
    "filters_cab=num_filters/16\n",
    "num_RG=3\n",
    "num_RCAB=8\n",
    "\n",
    "gt_test,low_test=stack_generator(test_GT,test_low, fr_start=frame_start,fr_end=frame_end)\n",
    "x_test, y_test,_,_ = data_generator(gt_test, low_test, test_patch_size, n_patches=n_patches,\n",
    "                                    n_channel=n_channel, threshold=0, ratio=1.0,\n",
    "                                    fr_start=frame_start,fr_end=frame_end,augment=False, shuffle=False)\n",
    "\n",
    "generator_input = Input((test_patch_size, test_patch_size,frame_end-frame_start,1))\n",
    "generator = make_generator(generator_input, filters, num_filters,filters_cab,num_RG,num_RCAB, kernel_shape=3,dropout=0.4)\n",
    "\n",
    "generator.load_weights(model_save_directory)\n",
    "\n",
    "prediction1 = np.zeros(x_test.shape)\n",
    "prediction2 = np.zeros(x_test.shape)\n",
    "\n",
    "# for i in range(len(x_test)):\n",
    "#     prediction1[i],prediction2[i]= generator(x_test[i:i+1],training=False)\n",
    "# #     prediction1[i] = prediction1[i]/prediction1[i].max()\n",
    "# #     prediction2[i] = prediction2[i]/prediction2[i].max()\n",
    "# prediction1 = prediction1/prediction1.max()\n",
    "# prediction2= prediction2/prediction2.max()\n",
    "# prediction1[prediction1<0]=0\n",
    "# prediction2[prediction2<0]=0\n",
    "\n",
    "mip_x_test=np.max(x_test,axis=3)\n",
    "mip_y_test=np.max(y_test,axis=3)\n",
    "mip_prediction1=np.max(prediction1,axis=3)\n",
    "mip_prediction2=np.max(prediction2,axis=3)"
   ]
  },
  {
   "cell_type": "code",
   "execution_count": null,
   "metadata": {
    "cellView": "form",
    "colab": {
     "base_uri": "https://localhost:8080/",
     "height": 708
    },
    "id": "Pl6pCBtNFOko",
    "outputId": "24ecab5f-9ec0-4bd7-8e1d-51ca3bbb8ed3"
   },
   "outputs": [],
   "source": [
    "ix = np.random.randint(len(mip_prediction1))\n",
    "# ix = image_number\n",
    "fig = plt.figure(figsize=(40,40))\n",
    "\n",
    "plt.subplot(1, 4, 1)\n",
    "plt.imshow(mip_x_test[ix, :, :, 0] , cmap='magma')\n",
    "plt.title('Low SNR Input',fontdict={'fontsize':20})\n",
    "plt_axis = plt.axis('off')\n",
    "\n",
    "plt.subplot(1, 4, 2)\n",
    "plt.imshow(mip_prediction1[ix, :, :, 0] , cmap='magma')\n",
    "plt.title('Prediction by UNet',fontdict={'fontsize':20})\n",
    "plt_axis = plt.axis('off')\n",
    "\n",
    "plt.subplot(1, 4, 3)\n",
    "plt.imshow(mip_prediction2[ix, :, :, 0] , cmap='magma')\n",
    "plt.title('Prediction by RCAN',fontdict={'fontsize':20})\n",
    "plt_axis = plt.axis('off')\n",
    "\n",
    "plt.subplot(1, 4, 4)\n",
    "plt.imshow(mip_y_test[ix, :, :, 0] , cmap='magma')\n",
    "plt.title('Ground Truth',fontdict={'fontsize':20})\n",
    "plt_axis = plt.axis('off')"
   ]
  },
  {
   "cell_type": "code",
   "execution_count": 3,
   "metadata": {
    "cellView": "form",
    "id": "jsmkGppEzXTd"
   },
   "outputs": [],
   "source": [
    "save_image_dr = r\"D:\\Projects\\Denosing-STED-Abberior\\2022-11-03_UCF_DemoSamples\\3D STED_TOM20\" \n",
    "\n",
    "pred1_test = np.moveaxis(prediction2,3,1)\n",
    "X_test = np.moveaxis(x_test,3,1)\n",
    "Y_test = np.moveaxis(y_test,3,1)\n",
    "\n",
    "\n",
    "pred1_test = pred1_test*(2**16-1)\n",
    "X_test = X_test*(2**16-1)\n",
    "Y_test = Y_test*(2**16-1)\n",
    "\n",
    "pred1_test = pred1_test.astype(np.uint16)\n",
    "X_test = X_test.astype(np.uint16)\n",
    "Y_test = Y_test.astype(np.uint16)\n",
    "\n",
    "# imwrite(save_image_dr+'/pred2.tif', pred1_test.squeeze(),imagej=True,metadata={'axes': 'TZYX'})\n",
    "imwrite(save_image_dr+'/noisy2.tif', X_test.squeeze(),imagej=True,metadata={'axes': 'TZYX'})\n",
    "# imwrite(save_image_dr+'/gt2.tif', Y_test.squeeze(),imagej=True,metadata={'axes': 'TZYX'})"
   ]
  },
  {
   "cell_type": "code",
   "execution_count": null,
   "metadata": {},
   "outputs": [],
   "source": [
    "pp = r'D:\\Projects\\Denosing-STED-Abberior\\2022-11-03_UCF_DemoSamples\\3D STED_TOM20\\test\\prediction'\n",
    "import os\n",
    "a1 = imread(r'D:\\Projects\\Denosing-STED-Abberior\\2022-11-03_UCF_DemoSamples\\3D STED_TOM20\\pred.tif')\n",
    "for i in range(len(a1)):\n",
    "    imwrite(os.path.join(pp,'',str(i)+'.tif'),a1[i].squeeze(),imagej=True,metadata={'axes': 'ZYX'})"
   ]
  },
  {
   "cell_type": "code",
   "execution_count": null,
   "metadata": {},
   "outputs": [],
   "source": [
    "b1 = imread(r'D:\\Projects\\Denosing-STED-Abberior\\2022-11-03_UCF_DemoSamples\\3D STED_TOM20\\noisy1.tif')\n",
    "b2 = imread(r'D:\\Projects\\Denosing-STED-Abberior\\2022-11-03_UCF_DemoSamples\\3D STED_TOM20\\noisy2.tif')\n",
    "b = np.concatenate((b1,b2),axis=1)\n",
    "imwrite(r'D:\\Projects\\Denosing-STED-Abberior\\2022-11-03_UCF_DemoSamples\\3D STED_TOM20\\noisy.tif',b,imagej=True,metadata={'axes': 'TZYX'})"
   ]
  },
  {
   "cell_type": "code",
   "execution_count": null,
   "metadata": {
    "cellView": "form",
    "id": "tJ-bKyN3iyfm"
   },
   "outputs": [],
   "source": [
    "save_parameters_dr = \"/content/drive/MyDrive/WidefieldData/deconvolution/lp50/Parameters50ch1.csv\"\n",
    "\n",
    "def norm_mse(prediction, gt):\n",
    "    mse = tf.keras.metrics.mean_squared_error(prediction, gt)\n",
    "    mse = tf.math.reduce_sum(mse, axis=(1, 2))\n",
    "    norm = tf.norm(gt, axis=(1, 2))\n",
    "    norm = tf.squeeze(norm)\n",
    "    norm = tf.pow(norm, 2)\n",
    "    norm = tf.math.reduce_sum(norm)\n",
    "    norm_mse = tf.math.divide(mse, norm)\n",
    "    return norm_mse.numpy()\n",
    "\n",
    "def nmse_psnr_ssim(prediction,gt):\n",
    "    nmse = norm_mse(prediction,gt)\n",
    "    psnr = tf.image.psnr(prediction, gt, max_val = 1.0).numpy()\n",
    "    ssim = tf.image.ssim_multiscale(prediction, gt, max_val = 1.0, filter_size=14,\n",
    "                                    filter_sigma=1.5, k1=0.01, k2=0.03).numpy()\n",
    "    return nmse,psnr,ssim\n",
    "    \n",
    "imageq_param = np.zeros((6,len(prediction1)))\n",
    "\n",
    "imageq_param[0::2,:] = nmse_psnr_ssim(mip_x_test,mip_y_test)\n",
    "imageq_param[1::2,:] = nmse_psnr_ssim(mip_prediction2,mip_y_test)\n",
    "\n",
    "\n",
    "fig, axes = plt.subplots(nrows=1, ncols=3, figsize=(15, 4))\n",
    "labels = ['noisy', 'prediction']\n",
    "\n",
    "bplot1 = axes[0].boxplot([imageq_param[0,:],imageq_param[1,:]],\n",
    "                         vert=True,  \n",
    "                         patch_artist=True,  \n",
    "                         labels=labels,showfliers=False)  \n",
    "axes[0].set_title('NMSE')\n",
    "\n",
    "bplot2 = axes[1].boxplot([imageq_param[2,:],imageq_param[3,:]],\n",
    "                         vert=True,  \n",
    "                         patch_artist=True,  \n",
    "                         labels=labels,showfliers=False)  \n",
    "axes[1].set_title('PSNR')\n",
    "\n",
    "bplot3 = axes[2].boxplot([imageq_param[4,:],imageq_param[5,:]],\n",
    "                         vert=True,  \n",
    "                         patch_artist=True,  \n",
    "                         labels=labels,showfliers=False)  \n",
    "cc= axes[2].set_title('MS-SSIM')\n",
    "\n",
    "\n",
    "# np.savetxt(save_parameters_dr, np.transpose(imageq_param), delimiter=\",\")"
   ]
  },
  {
   "cell_type": "code",
   "execution_count": null,
   "metadata": {},
   "outputs": [],
   "source": []
  }
 ],
 "metadata": {
  "accelerator": "GPU",
  "colab": {
   "collapsed_sections": [],
   "name": "Denoising_UNET_RCAN_3D.ipynb",
   "provenance": []
  },
  "gpuClass": "standard",
  "kernelspec": {
   "display_name": "Python 3 (ipykernel)",
   "language": "python",
   "name": "python3"
  },
  "language_info": {
   "codemirror_mode": {
    "name": "ipython",
    "version": 3
   },
   "file_extension": ".py",
   "mimetype": "text/x-python",
   "name": "python",
   "nbconvert_exporter": "python",
   "pygments_lexer": "ipython3",
   "version": "3.8.0"
  }
 },
 "nbformat": 4,
 "nbformat_minor": 1
}

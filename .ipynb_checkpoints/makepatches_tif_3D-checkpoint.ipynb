{
 "cells": [
  {
   "cell_type": "code",
   "execution_count": 9,
   "id": "1fe69e23",
   "metadata": {},
   "outputs": [
    {
     "name": "stdout",
     "output_type": "stream",
     "text": [
      "(85, 1276, 1729)\n",
      "8\n"
     ]
    },
    {
     "ename": "KeyboardInterrupt",
     "evalue": "",
     "output_type": "error",
     "traceback": [
      "\u001b[1;31m---------------------------------------------------------------------------\u001b[0m",
      "\u001b[1;31mKeyboardInterrupt\u001b[0m                         Traceback (most recent call last)",
      "Input \u001b[1;32mIn [9]\u001b[0m, in \u001b[0;36m<module>\u001b[1;34m\u001b[0m\n\u001b[0;32m     47\u001b[0m     \u001b[38;5;28;01mfor\u001b[39;00m p \u001b[38;5;129;01min\u001b[39;00m \u001b[38;5;28mrange\u001b[39m(nx):\n\u001b[0;32m     48\u001b[0m         \u001b[38;5;28;01mfor\u001b[39;00m q \u001b[38;5;129;01min\u001b[39;00m \u001b[38;5;28mrange\u001b[39m(ny):\n\u001b[1;32m---> 49\u001b[0m             x[count, :, :,:] \u001b[38;5;241m=\u001b[39m f[\u001b[38;5;241m0\u001b[39m:\u001b[38;5;241m0\u001b[39m\u001b[38;5;241m+\u001b[39mpatch_size_z, nnx[p]:nnx[p] \u001b[38;5;241m+\u001b[39m patch_size, nny[q]:nny[q] \u001b[38;5;241m+\u001b[39m patch_size]\n\u001b[0;32m     50\u001b[0m             count \u001b[38;5;241m=\u001b[39m count \u001b[38;5;241m+\u001b[39m \u001b[38;5;241m1\u001b[39m\n\u001b[0;32m     51\u001b[0m x1 \u001b[38;5;241m=\u001b[39m np\u001b[38;5;241m.\u001b[39mappend(x,x1,axis\u001b[38;5;241m=\u001b[39m\u001b[38;5;241m0\u001b[39m)\n",
      "\u001b[1;31mKeyboardInterrupt\u001b[0m: "
     ]
    }
   ],
   "source": [
    "import os\n",
    "from tifffile import imread, imwrite\n",
    "import numpy as np\n",
    "\n",
    "file_path = r'D:\\Projects\\Denosing-STED-Abberior\\2022-11-03_UCF_DemoSamples\\3D STED_TOM20\\test\\Average'\n",
    "save_path = r'D:\\Projects\\Denosing-STED-Abberior\\2022-11-03_UCF_DemoSamples\\3D STED_TOM20\\test\\patches\\Average'\n",
    "list_files = os.listdir(file_path)\n",
    "M = len(list_files)\n",
    "patch_size = 512\n",
    "patch_size_z = 80\n",
    "threshold = 0.0\n",
    "\n",
    "x1 = np.zeros((1,patch_size_z, patch_size, patch_size))\n",
    "\n",
    "\n",
    "for i in list_files:\n",
    "    f = imread(os.path.join(file_path, '', i)).astype(np.float64)\n",
    "    f = f / f.max()\n",
    "    f = f - f.min()\n",
    "    f = f / f.max()\n",
    "    f[f < 0] = 0\n",
    "    print(f.shape)\n",
    "    f1 = np.zeros((f.shape[0],2048,2048))\n",
    "    f1[:,386:386+f.shape[1],159:159+f.shape[2]] = f\n",
    "    f = f1\n",
    "    w = f.shape[-1]\n",
    "    h = f.shape[-2]\n",
    "    d = f.shape[0]\n",
    "    if len(f.shape) == 3:\n",
    "        z = f.shape[0]\n",
    "    else:\n",
    "        z = 1\n",
    "        f = f.reshape((1, f.shape[0], f.shape[1]))\n",
    "    nx = int(2*np.ceil(h / patch_size))\n",
    "    ny = int(2*np.ceil(w / patch_size))\n",
    "    print(nx)\n",
    "#     nz = int(np.ceil(d/patch_size_z))\n",
    "#     nx = 1\n",
    "#     ny = 1\n",
    "    nz = 1\n",
    "    x = np.zeros((nx * ny * nz,patch_size_z, patch_size, patch_size))\n",
    "    nnx = np.floor(np.linspace(0, h - patch_size, nx)).astype(np.int32)\n",
    "    nny = np.floor(np.linspace(0, w - patch_size, ny)).astype(np.int32)\n",
    "    nnz = np.floor(np.linspace(0, d - patch_size_z, nz)).astype(np.int32)\n",
    "    count = 0\n",
    "    for j in range(nz):\n",
    "        for p in range(ny):\n",
    "            for q in range(nx):\n",
    "                x[count, :, :,:] = f[0:0+patch_size_z, nny[p]:nny[p] + patch_size, nnx[q]:nnx[q] + patch_size]\n",
    "                count = count + 1\n",
    "    x1 = np.append(x,x1,axis=0)\n",
    "\n",
    "x = x1[1::]\n",
    "norm_x = np.linalg.norm(np.max(x,axis=1), axis=(1, 2))\n",
    "norm_x = norm_x/ norm_x.max()\n",
    "ind_norm = np.where(norm_x >= threshold)[0]\n",
    "y = np.zeros((len(ind_norm),patch_size_z, patch_size, patch_size))\n",
    "for k in range(len(ind_norm)):\n",
    "    y[k] = x[ind_norm[k]]\n",
    "    if y[k].max()>0:\n",
    "        y[k] = y[k]/y[k].max()\n",
    "y = np.uint16(y * (2 ** 16 - 1))\n",
    "# imwrite(os.path.join(save_path, '', 'Average.tif'), y, imagej=True, metadata={'axes': 'TZYX'})\n"
   ]
  },
  {
   "cell_type": "code",
   "execution_count": 10,
   "id": "b17bdd7a",
   "metadata": {},
   "outputs": [
    {
     "name": "stdout",
     "output_type": "stream",
     "text": [
      "[   0  219  438  658  877 1097 1316 1536]\n"
     ]
    }
   ],
   "source": [
    "print(nnx)"
   ]
  },
  {
   "cell_type": "code",
   "execution_count": null,
   "id": "0908c11c",
   "metadata": {},
   "outputs": [],
   "source": []
  }
 ],
 "metadata": {
  "kernelspec": {
   "display_name": "Python 3 (ipykernel)",
   "language": "python",
   "name": "python3"
  },
  "language_info": {
   "codemirror_mode": {
    "name": "ipython",
    "version": 3
   },
   "file_extension": ".py",
   "mimetype": "text/x-python",
   "name": "python",
   "nbconvert_exporter": "python",
   "pygments_lexer": "ipython3",
   "version": "3.8.0"
  }
 },
 "nbformat": 4,
 "nbformat_minor": 5
}

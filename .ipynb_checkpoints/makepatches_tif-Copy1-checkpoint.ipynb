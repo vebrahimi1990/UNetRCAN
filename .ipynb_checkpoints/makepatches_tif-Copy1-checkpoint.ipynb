{
 "cells": [
  {
   "cell_type": "code",
   "execution_count": 6,
   "id": "eace829f",
   "metadata": {},
   "outputs": [
    {
     "name": "stdout",
     "output_type": "stream",
     "text": [
      "(300, 2048, 2048)\n",
      "(333, 2048, 2048)\n",
      "(333, 2048, 2048)\n"
     ]
    },
    {
     "ename": "KeyboardInterrupt",
     "evalue": "",
     "output_type": "error",
     "traceback": [
      "\u001b[1;31m---------------------------------------------------------------------------\u001b[0m",
      "\u001b[1;31mKeyboardInterrupt\u001b[0m                         Traceback (most recent call last)",
      "Input \u001b[1;32mIn [6]\u001b[0m, in \u001b[0;36m<module>\u001b[1;34m\u001b[0m\n\u001b[0;32m     12\u001b[0m count1 \u001b[38;5;241m=\u001b[39m \u001b[38;5;241m0\u001b[39m\n\u001b[0;32m     13\u001b[0m \u001b[38;5;28;01mfor\u001b[39;00m i \u001b[38;5;129;01min\u001b[39;00m list_files:\n\u001b[1;32m---> 14\u001b[0m     f \u001b[38;5;241m=\u001b[39m \u001b[43mimread\u001b[49m\u001b[43m(\u001b[49m\u001b[43mos\u001b[49m\u001b[38;5;241;43m.\u001b[39;49m\u001b[43mpath\u001b[49m\u001b[38;5;241;43m.\u001b[39;49m\u001b[43mjoin\u001b[49m\u001b[43m(\u001b[49m\u001b[43mfile_path\u001b[49m\u001b[43m,\u001b[49m\u001b[43m \u001b[49m\u001b[38;5;124;43m'\u001b[39;49m\u001b[38;5;124;43m'\u001b[39;49m\u001b[43m,\u001b[49m\u001b[43m \u001b[49m\u001b[43mi\u001b[49m\u001b[43m)\u001b[49m\u001b[43m)\u001b[49m\u001b[38;5;241m.\u001b[39mastype(np\u001b[38;5;241m.\u001b[39mfloat32)\n\u001b[0;32m     15\u001b[0m     f \u001b[38;5;241m=\u001b[39m f \u001b[38;5;241m/\u001b[39m f\u001b[38;5;241m.\u001b[39mmax()\n\u001b[0;32m     16\u001b[0m     f \u001b[38;5;241m=\u001b[39m f \u001b[38;5;241m-\u001b[39m f\u001b[38;5;241m.\u001b[39mmin()\n",
      "File \u001b[1;32mc:\\users\\va332845\\appdata\\local\\programs\\python\\python38\\lib\\site-packages\\tifffile\\tifffile.py:894\u001b[0m, in \u001b[0;36mimread\u001b[1;34m(files, aszarr, **kwargs)\u001b[0m\n\u001b[0;32m    892\u001b[0m             \u001b[38;5;28;01mif\u001b[39;00m aszarr:\n\u001b[0;32m    893\u001b[0m                 \u001b[38;5;28;01mreturn\u001b[39;00m tif\u001b[38;5;241m.\u001b[39maszarr(\u001b[38;5;241m*\u001b[39m\u001b[38;5;241m*\u001b[39mkwargs)\n\u001b[1;32m--> 894\u001b[0m             \u001b[38;5;28;01mreturn\u001b[39;00m \u001b[43mtif\u001b[49m\u001b[38;5;241;43m.\u001b[39;49m\u001b[43masarray\u001b[49m\u001b[43m(\u001b[49m\u001b[38;5;241;43m*\u001b[39;49m\u001b[38;5;241;43m*\u001b[39;49m\u001b[43mkwargs\u001b[49m\u001b[43m)\u001b[49m\n\u001b[0;32m    896\u001b[0m \u001b[38;5;28;01mwith\u001b[39;00m TiffSequence(files, \u001b[38;5;241m*\u001b[39m\u001b[38;5;241m*\u001b[39mkwargs_seq) \u001b[38;5;28;01mas\u001b[39;00m imseq:\n\u001b[0;32m    897\u001b[0m     \u001b[38;5;28;01mif\u001b[39;00m aszarr:\n",
      "File \u001b[1;32mc:\\users\\va332845\\appdata\\local\\programs\\python\\python38\\lib\\site-packages\\tifffile\\tifffile.py:3370\u001b[0m, in \u001b[0;36mTiffFile.asarray\u001b[1;34m(self, key, series, level, squeeze, out, maxworkers)\u001b[0m\n\u001b[0;32m   3368\u001b[0m             out \u001b[38;5;241m=\u001b[39m create_output(out, shape, series\u001b[38;5;241m.\u001b[39mdtype)\n\u001b[0;32m   3369\u001b[0m         \u001b[38;5;28mself\u001b[39m\u001b[38;5;241m.\u001b[39mfilehandle\u001b[38;5;241m.\u001b[39mseek(series\u001b[38;5;241m.\u001b[39moffset)\n\u001b[1;32m-> 3370\u001b[0m         result \u001b[38;5;241m=\u001b[39m \u001b[38;5;28;43mself\u001b[39;49m\u001b[38;5;241;43m.\u001b[39;49m\u001b[43mfilehandle\u001b[49m\u001b[38;5;241;43m.\u001b[39;49m\u001b[43mread_array\u001b[49m\u001b[43m(\u001b[49m\n\u001b[0;32m   3371\u001b[0m \u001b[43m            \u001b[49m\u001b[43mtypecode\u001b[49m\u001b[43m,\u001b[49m\u001b[43m \u001b[49m\u001b[43mproduct\u001b[49m\u001b[43m(\u001b[49m\u001b[43mshape\u001b[49m\u001b[43m)\u001b[49m\u001b[43m,\u001b[49m\u001b[43m \u001b[49m\u001b[43mout\u001b[49m\u001b[38;5;241;43m=\u001b[39;49m\u001b[43mout\u001b[49m\n\u001b[0;32m   3372\u001b[0m \u001b[43m        \u001b[49m\u001b[43m)\u001b[49m\n\u001b[0;32m   3373\u001b[0m \u001b[38;5;28;01melif\u001b[39;00m \u001b[38;5;28mlen\u001b[39m(pages) \u001b[38;5;241m==\u001b[39m \u001b[38;5;241m1\u001b[39m:\n\u001b[0;32m   3374\u001b[0m     result \u001b[38;5;241m=\u001b[39m pages[\u001b[38;5;241m0\u001b[39m]\u001b[38;5;241m.\u001b[39masarray(out\u001b[38;5;241m=\u001b[39mout, maxworkers\u001b[38;5;241m=\u001b[39mmaxworkers)\n",
      "File \u001b[1;32mc:\\users\\va332845\\appdata\\local\\programs\\python\\python38\\lib\\site-packages\\tifffile\\tifffile.py:10593\u001b[0m, in \u001b[0;36mFileHandle.read_array\u001b[1;34m(self, dtype, count, out)\u001b[0m\n\u001b[0;32m  10590\u001b[0m     \u001b[38;5;28;01mraise\u001b[39;00m \u001b[38;5;167;01mValueError\u001b[39;00m(\u001b[38;5;124m'\u001b[39m\u001b[38;5;124msize mismatch\u001b[39m\u001b[38;5;124m'\u001b[39m)\n\u001b[0;32m  10592\u001b[0m \u001b[38;5;28;01mtry\u001b[39;00m:\n\u001b[1;32m> 10593\u001b[0m     n \u001b[38;5;241m=\u001b[39m \u001b[38;5;28;43mself\u001b[39;49m\u001b[38;5;241;43m.\u001b[39;49m\u001b[43m_fh\u001b[49m\u001b[38;5;241;43m.\u001b[39;49m\u001b[43mreadinto\u001b[49m\u001b[43m(\u001b[49m\u001b[43mresult\u001b[49m\u001b[43m)\u001b[49m\n\u001b[0;32m  10594\u001b[0m \u001b[38;5;28;01mexcept\u001b[39;00m \u001b[38;5;167;01mAttributeError\u001b[39;00m:\n\u001b[0;32m  10595\u001b[0m     result[:] \u001b[38;5;241m=\u001b[39m numpy\u001b[38;5;241m.\u001b[39mfrombuffer(\u001b[38;5;28mself\u001b[39m\u001b[38;5;241m.\u001b[39m_fh\u001b[38;5;241m.\u001b[39mread(nbytes), dtype)\u001b[38;5;241m.\u001b[39mreshape(\n\u001b[0;32m  10596\u001b[0m         result\u001b[38;5;241m.\u001b[39mshape\n\u001b[0;32m  10597\u001b[0m     )\n",
      "\u001b[1;31mKeyboardInterrupt\u001b[0m: "
     ]
    }
   ],
   "source": [
    "import os\n",
    "from tifffile import imread, imwrite\n",
    "import numpy as np\n",
    "\n",
    "file_path = r'D:\\Projects\\Denoising-STED\\20220913-RPI\\photobleaching\\files'\n",
    "save_path = r'D:\\Projects\\Denoising-STED\\20220913-RPI\\photobleaching\\patches'\n",
    "\n",
    "list_files = os.listdir(file_path)\n",
    "M = len(list_files)\n",
    "patch_size = 800\n",
    "threshold = 0.0\n",
    "count1 = 0\n",
    "for i in list_files:\n",
    "    f = imread(os.path.join(file_path, '', i)).astype(np.float32)\n",
    "    f = f / f.max()\n",
    "    f = f - f.min()\n",
    "    f = f / f.max()\n",
    "    f[f < 0] = 0\n",
    "    w = f.shape[-1]\n",
    "    h = f.shape[-2]\n",
    "    if len(f.shape) == 3:\n",
    "        t = f.shape[0]\n",
    "    else:\n",
    "        t = 1\n",
    "        f = f.reshape((1, f.shape[0], f.shape[1]))\n",
    "        \n",
    "#     nx = int(3*np.ceil(h / patch_size))\n",
    "#     ny = int(3*np.ceil(w / patch_size))\n",
    "    nx = 3\n",
    "    ny = 3\n",
    "    \n",
    "    x = np.zeros((nx * ny * t, patch_size, patch_size))\n",
    "    nnx = np.floor(np.linspace(0, h - patch_size, nx)).astype(np.int32)\n",
    "    nny = np.floor(np.linspace(0, w - patch_size, ny)).astype(np.int32)\n",
    "#     print(nnx,nny)\n",
    "    count = 0\n",
    "    for p in range(nx):\n",
    "        for q in range(ny):\n",
    "            for j in range(t):\n",
    "                x[count, :, :] = f[j, nnx[p]:nnx[p]+patch_size, nny[q]:nny[q]+patch_size]\n",
    "                x[count] = x[count]/x[count].max()\n",
    "                count = count + 1\n",
    "\n",
    "#     norm_x = np.linalg.norm(x, axis=(1, 2))\n",
    "#     norm_x = norm_x / norm_x.max()\n",
    "#     ind_norm = np.where(norm_x > threshold)[0]\n",
    "#     y = np.zeros((len(ind_norm), patch_size, patch_size))\n",
    "#     for k in range(len(ind_norm)):\n",
    "#         y[k] = x[ind_norm[k]]\n",
    "    y = np.uint16(x * (2 ** 16 - 1))\n",
    "    imwrite(os.path.join(save_path, '', str(count1)+'.tif'), y, imagej=True, metadata={'axes': 'TYX'})\n",
    "    count1 = count1+1\n"
   ]
  },
  {
   "cell_type": "code",
   "execution_count": null,
   "id": "66a6c054",
   "metadata": {},
   "outputs": [],
   "source": []
  }
 ],
 "metadata": {
  "kernelspec": {
   "display_name": "Python 3 (ipykernel)",
   "language": "python",
   "name": "python3"
  },
  "language_info": {
   "codemirror_mode": {
    "name": "ipython",
    "version": 3
   },
   "file_extension": ".py",
   "mimetype": "text/x-python",
   "name": "python",
   "nbconvert_exporter": "python",
   "pygments_lexer": "ipython3",
   "version": "3.8.0"
  }
 },
 "nbformat": 4,
 "nbformat_minor": 5
}

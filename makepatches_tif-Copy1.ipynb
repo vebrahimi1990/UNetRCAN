{
 "cells": [
  {
   "cell_type": "code",
   "execution_count": 8,
   "id": "eace829f",
   "metadata": {},
   "outputs": [],
   "source": [
    "import os\n",
    "from tifffile import imread, imwrite\n",
    "import numpy as np\n",
    "\n",
    "file_path = r'D:\\Projects\\Denoising-STED\\20220913-RPI\\photobleaching\\files'\n",
    "save_path = r'D:\\Projects\\Denoising-STED\\20220913-RPI\\photobleaching\\patches'\n",
    "\n",
    "list_files = os.listdir(file_path)\n",
    "M = len(list_files)\n",
    "patch_size = 800\n",
    "threshold = 0.0\n",
    "count1 = 0\n",
    "for i in list_files:\n",
    "    f = imread(os.path.join(file_path, '', i)).astype(np.float32)\n",
    "    f = f / f.max()\n",
    "    f = f - f.min()\n",
    "    f = f / f.max()\n",
    "    f[f < 0] = 0\n",
    "    w = f.shape[-1]\n",
    "    h = f.shape[-2]\n",
    "    if len(f.shape) == 3:\n",
    "        t = f.shape[0]\n",
    "    else:\n",
    "        t = 1\n",
    "        f = f.reshape((1, f.shape[0], f.shape[1]))\n",
    "        \n",
    "#     nx = int(3*np.ceil(h / patch_size))\n",
    "#     ny = int(3*np.ceil(w / patch_size))\n",
    "    nx = 3\n",
    "    ny = 3\n",
    "    \n",
    "    x = np.zeros((nx * ny * t, patch_size, patch_size))\n",
    "    nnx = np.floor(np.linspace(0, h - patch_size, nx)).astype(np.int32)\n",
    "    nny = np.floor(np.linspace(0, w - patch_size, ny)).astype(np.int32)\n",
    "#     print(nnx,nny)\n",
    "    count = 0\n",
    "    for p in range(nx):\n",
    "        for q in range(ny):\n",
    "            for j in range(t):\n",
    "                x[count, :, :] = f[j, nnx[p]:nnx[p]+patch_size, nny[q]:nny[q]+patch_size]\n",
    "                x[count] = x[count]/x[count].max()\n",
    "                count = count + 1\n",
    "\n",
    "#     norm_x = np.linalg.norm(x, axis=(1, 2))\n",
    "#     norm_x = norm_x / norm_x.max()\n",
    "#     ind_norm = np.where(norm_x > threshold)[0]\n",
    "#     y = np.zeros((len(ind_norm), patch_size, patch_size))\n",
    "#     for k in range(len(ind_norm)):\n",
    "#         y[k] = x[ind_norm[k]]\n",
    "    y = np.uint16(x * (2 ** 16 - 1))\n",
    "    imwrite(os.path.join(save_path, '', str(count1)+'.tif'), y, imagej=True, metadata={'axes': 'TYX'})\n",
    "    count1 = count1+1\n"
   ]
  },
  {
   "cell_type": "code",
   "execution_count": 1,
   "id": "66a6c054",
   "metadata": {},
   "outputs": [],
   "source": [
    "import numpy as np"
   ]
  },
  {
   "cell_type": "code",
   "execution_count": 16,
   "id": "e5e6757e",
   "metadata": {},
   "outputs": [],
   "source": [
    "x = np.random.rand(2,3,3)"
   ]
  },
  {
   "cell_type": "code",
   "execution_count": 17,
   "id": "1d514fae",
   "metadata": {},
   "outputs": [],
   "source": [
    "mx = x.max(axis=(1,2))"
   ]
  },
  {
   "cell_type": "code",
   "execution_count": 18,
   "id": "da119323",
   "metadata": {},
   "outputs": [],
   "source": [
    "mx = mx.reshape((2,1,1))"
   ]
  },
  {
   "cell_type": "code",
   "execution_count": 19,
   "id": "853b19b1",
   "metadata": {},
   "outputs": [],
   "source": [
    "nx = x/mx"
   ]
  },
  {
   "cell_type": "code",
   "execution_count": 25,
   "id": "e0fae8c1",
   "metadata": {},
   "outputs": [
    {
     "data": {
      "text/plain": [
       "array([[0.47591327, 0.09682424, 0.91850126],\n",
       "       [0.58563143, 0.98365645, 0.53816074],\n",
       "       [0.80308317, 0.90736947, 1.        ]])"
      ]
     },
     "execution_count": 25,
     "metadata": {},
     "output_type": "execute_result"
    }
   ],
   "source": [
    "nx[0,:,:]"
   ]
  },
  {
   "cell_type": "code",
   "execution_count": 27,
   "id": "5aea2232",
   "metadata": {},
   "outputs": [
    {
     "data": {
      "text/plain": [
       "array([[0.47591327, 0.09682424, 0.91850127],\n",
       "       [0.58563144, 0.98365645, 0.53816074],\n",
       "       [0.80308317, 0.90736947, 1.        ]])"
      ]
     },
     "execution_count": 27,
     "metadata": {},
     "output_type": "execute_result"
    }
   ],
   "source": [
    "x[0,:,:]/0.82241154"
   ]
  },
  {
   "cell_type": "code",
   "execution_count": null,
   "id": "5e252b59",
   "metadata": {},
   "outputs": [],
   "source": []
  }
 ],
 "metadata": {
  "kernelspec": {
   "display_name": "Python 3 (ipykernel)",
   "language": "python",
   "name": "python3"
  },
  "language_info": {
   "codemirror_mode": {
    "name": "ipython",
    "version": 3
   },
   "file_extension": ".py",
   "mimetype": "text/x-python",
   "name": "python",
   "nbconvert_exporter": "python",
   "pygments_lexer": "ipython3",
   "version": "3.8.0"
  }
 },
 "nbformat": 4,
 "nbformat_minor": 5
}

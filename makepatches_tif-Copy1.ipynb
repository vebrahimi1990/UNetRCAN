{
 "cells": [
  {
   "cell_type": "code",
   "execution_count": 1,
   "id": "eace829f",
   "metadata": {},
   "outputs": [
    {
     "name": "stdout",
     "output_type": "stream",
     "text": [
      "[  0 244] [ 0 77]\n",
      "[  0 172 344] [  0 145]\n",
      "[  0 244] [ 0 77]\n",
      "[  0 244] [ 0 78]\n",
      "[  0 244] [ 0 77]\n"
     ]
    }
   ],
   "source": [
    "import os\n",
    "from tifffile import imread, imwrite\n",
    "import numpy as np\n",
    "\n",
    "file_path = r'C:\\Users\\va332845\\OneDrive - Knights - University of Central Florida\\Nanoscopy Group\\Experiments\\STED\\Collaboration with Stephen Jacobe\\Data_Vahid\\2022_08_17_HeLa\\2 sec delay between images\\images'\n",
    "save_path = r'C:\\Users\\va332845\\OneDrive - Knights - University of Central Florida\\Nanoscopy Group\\Experiments\\STED\\Collaboration with Stephen Jacobe\\Data_Vahid\\2022_08_17_HeLa\\2 sec delay between images\\patches'\n",
    "list_files = os.listdir(file_path)\n",
    "M = len(list_files)\n",
    "patch_size = 256\n",
    "threshold = 0.0\n",
    "count1 = 0\n",
    "for i in list_files:\n",
    "    f = imread(os.path.join(file_path, '', i)).astype(np.float64)\n",
    "    f = f / f.max()\n",
    "    f = f - f.min()\n",
    "    f = f / f.max()\n",
    "    f[f < 0] = 0\n",
    "    w = f.shape[-1]\n",
    "    h = f.shape[-2]\n",
    "    if len(f.shape) == 3:\n",
    "        t = f.shape[0]\n",
    "    else:\n",
    "        t = 1\n",
    "        f = f.reshape((1, f.shape[0], f.shape[1]))\n",
    "    nx = int(np.ceil(h / patch_size))\n",
    "    ny = int(np.ceil(w / patch_size))\n",
    "    \n",
    "    x = np.zeros((nx * ny * t, patch_size, patch_size))\n",
    "    nnx = np.floor(np.linspace(0, h - patch_size, nx)).astype(np.int32)\n",
    "    nny = np.floor(np.linspace(0, w - patch_size, ny)).astype(np.int32)\n",
    "    print(nnx,nny)\n",
    "    count = 0\n",
    "    for p in range(nx):\n",
    "        for q in range(ny):\n",
    "            for j in range(t):\n",
    "                x[count, :, :] = f[j, nnx[p]:nnx[p] + patch_size, nny[q]:nny[q] + patch_size]\n",
    "                count = count + 1\n",
    "\n",
    "    norm_x = np.linalg.norm(x, axis=(1, 2))\n",
    "    norm_x = norm_x / norm_x.max()\n",
    "    ind_norm = np.where(norm_x > threshold)[0]\n",
    "    y = np.zeros((len(ind_norm), patch_size, patch_size))\n",
    "    for k in range(len(ind_norm)):\n",
    "        y[k] = x[ind_norm[k]]\n",
    "    y = np.uint16(y * (2 ** 16 - 1))\n",
    "    imwrite(os.path.join(save_path, '', str(count1)+'.tif'), y, imagej=True, metadata={'axes': 'TYX'})\n",
    "    count1 = count1+1\n"
   ]
  },
  {
   "cell_type": "code",
   "execution_count": null,
   "id": "66a6c054",
   "metadata": {},
   "outputs": [],
   "source": []
  }
 ],
 "metadata": {
  "kernelspec": {
   "display_name": "Python 3 (ipykernel)",
   "language": "python",
   "name": "python3"
  },
  "language_info": {
   "codemirror_mode": {
    "name": "ipython",
    "version": 3
   },
   "file_extension": ".py",
   "mimetype": "text/x-python",
   "name": "python",
   "nbconvert_exporter": "python",
   "pygments_lexer": "ipython3",
   "version": "3.8.0"
  }
 },
 "nbformat": 4,
 "nbformat_minor": 5
}

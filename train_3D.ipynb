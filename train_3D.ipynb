{
 "cells": [
  {
   "cell_type": "code",
   "execution_count": null,
   "metadata": {
    "cellView": "form",
    "colab": {
     "base_uri": "https://localhost:8080/"
    },
    "id": "Tv4sbUfUXbVa",
    "outputId": "22b0628c-936e-4643-ac9a-d8bbb031c17e"
   },
   "outputs": [],
   "source": [
    "import os\n",
    "import random\n",
    "import numpy as np\n",
    "import tensorflow as tf\n",
    "import matplotlib.pyplot as plt\n",
    "\n",
    "gpus = tf.config.list_physical_devices('GPU')\n",
    "if gpus:\n",
    "    try:\n",
    "        tf.config.set_logical_device_configuration(\n",
    "            gpus[0],\n",
    "            [tf.config.LogicalDeviceConfiguration(memory_limit=10000)])\n",
    "        logical_gpus = tf.config.list_logical_devices('GPU')\n",
    "        print(len(gpus), \"Physical GPUs,\", len(logical_gpus), \"Logical GPUs\")\n",
    "    except RuntimeError as e:\n",
    "        print(e)\n",
    "\n",
    "from tensorflow import keras\n",
    "from tifffile import imsave, imread, imwrite\n",
    "from keras.models import Input, Model\n",
    "from keras import layers\n",
    "from keras.callbacks import ModelCheckpoint, EarlyStopping, ReduceLROnPlateau,LearningRateScheduler\n",
    "from tifffile import imwrite\n",
    "\n",
    "from datagenerator_3D import stack_generator, data_generator\n",
    "# from model_3D_interconnect import make_generator\n",
    "from model_3D import make_generator\n",
    "from loss_3D import generator_loss"
   ]
  },
  {
   "cell_type": "code",
   "execution_count": null,
   "metadata": {
    "cellView": "form",
    "id": "kp_fudHmSiXl",
    "scrolled": true
   },
   "outputs": [],
   "source": [
    "frame_start =  0\n",
    "frame_end =  8\n",
    "patch_size =  160\n",
    "n_patches =  1\n",
    "n_channel =  0\n",
    "augment = False \n",
    "shuffle = True \n",
    "batch_size = 1\n",
    "lp = 1.0\n",
    "add_noise = False\n",
    "\n",
    "GT_image_dr = r'D:\\Projects\\Denosing-STED-Abberior\\2022-11-03_UCF_DemoSamples\\3D STED_TOM20\\patches\\Average'\n",
    "lowSNR_image_dr =r'D:\\Projects\\Denosing-STED-Abberior\\2022-11-03_UCF_DemoSamples\\3D STED_TOM20\\patches\\1frame'\n",
    "\n",
    "\n",
    "gt,low=stack_generator(GT_image_dr,lowSNR_image_dr, fr_start=frame_start,fr_end=frame_end)\n",
    "\n",
    "x_train, y_train, x_valid, y_valid = data_generator(gt, low, patch_size, n_patches, n_channel, \n",
    "                                                    threshold=0, ratio=1.0,lp=lp,\n",
    "                                                    fr_start=frame_start, fr_end=frame_end\n",
    "                                                    ,augment=augment, shuffle=shuffle,add_noise=add_noise)"
   ]
  },
  {
   "cell_type": "code",
   "execution_count": null,
   "metadata": {
    "scrolled": true
   },
   "outputs": [],
   "source": [
    "mip_x_train=np.max(x_train,axis=3)\n",
    "mip_y_train=np.max(y_train,axis=3)\n",
    "\n",
    "ix = random.sample(range(len(x_train)),4)\n",
    "fig = plt.figure(figsize=(15,7))\n",
    "\n",
    "for i in range(4):\n",
    "    fig.add_subplot(2,4, 2*i+1)\n",
    "    cmap=plt.get_cmap('magma')\n",
    "    plt.imshow(mip_x_train[ix[i],:,:,0].squeeze(),cmap)\n",
    "    plt.title('Low SNR',fontdict={'fontsize':18})\n",
    "    plt_axis = plt.axis('off')\n",
    "\n",
    "    fig.add_subplot(2,4, 2*i+2)\n",
    "    cmap=plt.get_cmap('magma')\n",
    "    plt.imshow(mip_y_train[ix[i],:,:,0].squeeze(),cmap)\n",
    "    plt.title('High SNR',fontdict={'fontsize':18})\n",
    "    plt_axis = plt.axis('off')"
   ]
  },
  {
   "cell_type": "code",
   "execution_count": null,
   "metadata": {
    "cellView": "form",
    "id": "6d2Xe1vBN_r_"
   },
   "outputs": [],
   "source": [
    "model_save_directory = r\"D:\\Projects\\Denosing-STED-Abberior\\2022-11-03_UCF_DemoSamples\\3D STED_TOM20\\patches\\unet_rcan_microtubule.h5\" \n",
    "load_model_save_directory = r\"D:\\Models\\Data generator\\ddx39b-son\\ddx39B-file_4.h5\" \n",
    "\n",
    "\n",
    "n_epochs =  200\n",
    "gen_lr = 1e-4\n",
    "\n",
    "filters =[32,64,128]\n",
    "num_filters = filters[0]\n",
    "filters_cab=num_filters/16\n",
    "num_RG=3\n",
    "num_RCAB=8\n",
    "\n",
    "generator_input = Input((patch_size, patch_size,frame_end-frame_start,1))\n",
    "generator = make_generator(generator_input, filters, num_filters,filters_cab,num_RG,num_RCAB,\n",
    "                           kernel_shape=3,dropout=0.2)\n",
    "gen_opt = keras.optimizers.Adam(learning_rate=gen_lr)\n",
    "generator.compile(optimizer=gen_opt, loss={'one':'mse','two':'mae'})\n",
    "# generator.load_weights(load_model_save_directory)\n",
    "\n",
    "\n",
    "\n",
    "def scheduler(epoch, lr):\n",
    "    if np.mod(epoch+1,20)==0:\n",
    "        return lr*0.8\n",
    "    else:\n",
    "        return lr\n",
    "\n",
    "callbacks = [\n",
    "    EarlyStopping(patience=100, verbose=1),\n",
    "    LearningRateScheduler(scheduler),\n",
    "    ModelCheckpoint(filepath=model_save_directory, verbose=1, save_best_only=True, save_weights_only=True)]"
   ]
  },
  {
   "cell_type": "code",
   "execution_count": null,
   "metadata": {
    "scrolled": true
   },
   "outputs": [],
   "source": [
    "results = generator.fit(x=x_train[0:10],y={'one':y_train[0:10],'two':y_train[0:10]}, batch_size=batch_size, epochs=n_epochs,verbose=1,\n",
    "                        callbacks=callbacks,validation_split=0.1)"
   ]
  },
  {
   "cell_type": "code",
   "execution_count": null,
   "metadata": {},
   "outputs": [],
   "source": []
  }
 ],
 "metadata": {
  "accelerator": "GPU",
  "colab": {
   "collapsed_sections": [],
   "name": "Denoising_UNET_RCAN_3D.ipynb",
   "provenance": []
  },
  "gpuClass": "standard",
  "kernelspec": {
   "display_name": "Python 3 (ipykernel)",
   "language": "python",
   "name": "python3"
  },
  "language_info": {
   "codemirror_mode": {
    "name": "ipython",
    "version": 3
   },
   "file_extension": ".py",
   "mimetype": "text/x-python",
   "name": "python",
   "nbconvert_exporter": "python",
   "pygments_lexer": "ipython3",
   "version": "3.8.0"
  }
 },
 "nbformat": 4,
 "nbformat_minor": 1
}

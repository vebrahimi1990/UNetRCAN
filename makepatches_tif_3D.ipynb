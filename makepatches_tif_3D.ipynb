{
 "cells": [
  {
   "cell_type": "code",
   "execution_count": 3,
   "id": "1fe69e23",
   "metadata": {},
   "outputs": [
    {
     "name": "stdout",
     "output_type": "stream",
     "text": [
      "(86, 1276, 1729)\n",
      "(46, 873, 1010)\n",
      "(20, 1060, 628)\n",
      "(20, 633, 1207)\n",
      "(20, 741, 941)\n",
      "(20, 662, 918)\n",
      "(20, 631, 659)\n",
      "(20, 594, 1035)\n",
      "(20, 1123, 721)\n",
      "(20, 1524, 1405)\n"
     ]
    }
   ],
   "source": [
    "import os\n",
    "from tifffile import imread, imwrite\n",
    "import numpy as np\n",
    "\n",
    "file_path = r'D:\\Projects\\Denosing-STED-Abberior\\2022-11-03_UCF_DemoSamples\\3D STED_TOM20\\Average'\n",
    "save_path = r'D:\\Projects\\Denosing-STED-Abberior\\2022-11-03_UCF_DemoSamples\\3D STED_TOM20\\patches\\Average'\n",
    "list_files = os.listdir(file_path)\n",
    "M = len(list_files)\n",
    "patch_size = 256\n",
    "patch_size_z = 16\n",
    "threshold = 0.0\n",
    "\n",
    "x1 = np.zeros((1,patch_size_z, patch_size, patch_size))\n",
    "\n",
    "\n",
    "for i in list_files:\n",
    "    f = imread(os.path.join(file_path, '', i)).astype(np.float64)\n",
    "    f = f / f.max()\n",
    "    f = f - f.min()\n",
    "    f = f / f.max()\n",
    "    f[f < 0] = 0\n",
    "    print(f.shape)\n",
    "#     f1 = np.zeros((f.shape[0],2048,2048))\n",
    "#     f1[:,386:386+f.shape[1],159:159+f.shape[2]] = f\n",
    "#     f = f1\n",
    "    w = f.shape[-1]\n",
    "    h = f.shape[-2]\n",
    "    d = f.shape[0]\n",
    "    if len(f.shape) == 3:\n",
    "        z = f.shape[0]\n",
    "    else:\n",
    "        z = 1\n",
    "        f = f.reshape((1, f.shape[0], f.shape[1]))\n",
    "    nx = int(2*np.ceil(h / patch_size))\n",
    "    ny = int(2*np.ceil(w / patch_size))\n",
    "#     print(nx)\n",
    "    nz = int(2*np.ceil(d/patch_size_z))\n",
    "#     nx = 1\n",
    "#     ny = 1\n",
    "#     nz = 1\n",
    "    x = np.zeros((nx * ny * nz,patch_size_z, patch_size, patch_size))\n",
    "    nnx = np.floor(np.linspace(0, h - patch_size, nx)).astype(np.int32)\n",
    "    nny = np.floor(np.linspace(0, w - patch_size, ny)).astype(np.int32)\n",
    "    nnz = np.floor(np.linspace(0, d - patch_size_z, nz)).astype(np.int32)\n",
    "    count = 0\n",
    "    for j in range(nz):\n",
    "        for p in range(nx):\n",
    "            for q in range(ny):\n",
    "                x[count, :, :,:] = f[nnz[j]:nnz[j]+patch_size_z, nnx[p]:nnx[p] + patch_size, nny[q]:nny[q] + patch_size]\n",
    "                count = count + 1\n",
    "#     x1 = np.append(x,x1,axis=0)\n",
    "\n",
    "# x = x1[1::]\n",
    "norm_x = np.linalg.norm(np.max(x,axis=1), axis=(1, 2))\n",
    "norm_x = norm_x/ norm_x.max()\n",
    "ind_norm = np.where(norm_x >= threshold)[0]\n",
    "y = np.zeros((len(ind_norm),patch_size_z, patch_size, patch_size))\n",
    "for k in range(len(ind_norm)):\n",
    "    y[k] = x[ind_norm[k]]\n",
    "    if y[k].max()>0:\n",
    "        y[k] = y[k]/y[k].max()\n",
    "y = np.uint16(y * (2 ** 16 - 1))\n",
    "imwrite(os.path.join(save_path, '', 'Average.tif'), y, imagej=True, metadata={'axes': 'TZYX'})\n"
   ]
  },
  {
   "cell_type": "code",
   "execution_count": null,
   "id": "ab7f5e03",
   "metadata": {},
   "outputs": [],
   "source": []
  }
 ],
 "metadata": {
  "kernelspec": {
   "display_name": "Python 3 (ipykernel)",
   "language": "python",
   "name": "python3"
  },
  "language_info": {
   "codemirror_mode": {
    "name": "ipython",
    "version": 3
   },
   "file_extension": ".py",
   "mimetype": "text/x-python",
   "name": "python",
   "nbconvert_exporter": "python",
   "pygments_lexer": "ipython3",
   "version": "3.8.0"
  }
 },
 "nbformat": 4,
 "nbformat_minor": 5
}
